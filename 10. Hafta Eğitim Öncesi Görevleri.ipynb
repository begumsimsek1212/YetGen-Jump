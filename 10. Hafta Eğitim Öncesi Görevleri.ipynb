{
 "cells": [
  {
   "attachments": {},
   "cell_type": "markdown",
   "metadata": {},
   "source": [
    "# Problem 1"
   ]
  },
  {
   "cell_type": "code",
   "execution_count": null,
   "metadata": {},
   "outputs": [],
   "source": [
    "# 1 - numpy kütüphanesini import edin\n",
    "import numpy as np\n",
    "\n",
    "# 2 - 0 ile 10 arasında 5 sayıdan oluşan matris üretin\n",
    "a= np.random.randint(0,10,5)\n",
    "\n",
    "# 3 - matris'in boyutunu öğrenin\n",
    "\n",
    "print(a.shape)\n",
    "# 4 - matris'i yeniden boyutlandırın\n",
    "b= a.reshape((2,5))\n",
    "# 5 - matris'in boyut sayısını öğrenin\n",
    "\n",
    "print(a.ndim)\n"
   ]
  },
  {
   "attachments": {},
   "cell_type": "markdown",
   "metadata": {},
   "source": [
    "# Problem 2"
   ]
  },
  {
   "cell_type": "code",
   "execution_count": 13,
   "metadata": {},
   "outputs": [
    {
     "ename": "ValueError",
     "evalue": "too many values to unpack (expected 2)",
     "output_type": "error",
     "traceback": [
      "\u001b[1;31m---------------------------------------------------------------------------\u001b[0m",
      "\u001b[1;31mValueError\u001b[0m                                Traceback (most recent call last)",
      "Cell \u001b[1;32mIn[13], line 5\u001b[0m\n\u001b[0;32m      3\u001b[0m a\u001b[39m=\u001b[39m np\u001b[39m.\u001b[39marange(\u001b[39m1\u001b[39m,\u001b[39m10\u001b[39m,\u001b[39m2\u001b[39m)\n\u001b[0;32m      4\u001b[0m \u001b[39m# 2 - Oluşturduğunuz matrisi parçalayın\u001b[39;00m\n\u001b[1;32m----> 5\u001b[0m b,c  \u001b[39m=\u001b[39m np\u001b[39m.\u001b[39msplit(a,[\u001b[39m3\u001b[39m,\u001b[39m4\u001b[39m])\n\u001b[0;32m      7\u001b[0m \u001b[39m# 3 - Parçalanmış matrisleri birleştirin\u001b[39;00m\n\u001b[0;32m      8\u001b[0m \u001b[39mprint\u001b[39m(a\u001b[39m.\u001b[39mconcantenate([b,c], axis\u001b[39m=\u001b[39m \u001b[39m0\u001b[39m))\n",
      "\u001b[1;31mValueError\u001b[0m: too many values to unpack (expected 2)"
     ]
    }
   ],
   "source": [
    "# 1 - 0 ile 10 arasında bulunan tek sayılardan oluşan matris üretin\n",
    "import numpy as np\n",
    "a= np.arange(1,10,2)\n",
    "# 2 - Oluşturduğunuz matrisi parçalayın\n",
    "b,c  = np.split(a,[3,4])\n",
    "\n",
    "# 3 - Parçalanmış matrisleri birleştirin\n",
    "print(a.concantenate([b,c], axis= 0))\n"
   ]
  },
  {
   "attachments": {},
   "cell_type": "markdown",
   "metadata": {},
   "source": [
    "# Problem 3"
   ]
  },
  {
   "cell_type": "code",
   "execution_count": 12,
   "metadata": {},
   "outputs": [
    {
     "name": "stdout",
     "output_type": "stream",
     "text": [
      "1\n",
      "(10,)\n"
     ]
    }
   ],
   "source": [
    "\n",
    "import numpy as np\n",
    "# 1 - 5 ile 100 arasında ikişer ikişer atlayarak rastgele 10 sayıdan oluşan matris üretin\n",
    "\n",
    "\n",
    "a = np.random.randint(5,100,10)\n",
    "# 2 - matris'in özelliklerini inceleyin\n",
    "print(a.ndim)\n",
    "print(a.shape)"
   ]
  }
 ],
 "metadata": {
  "kernelspec": {
   "display_name": "Python 3",
   "language": "python",
   "name": "python3"
  },
  "language_info": {
   "codemirror_mode": {
    "name": "ipython",
    "version": 3
   },
   "file_extension": ".py",
   "mimetype": "text/x-python",
   "name": "python",
   "nbconvert_exporter": "python",
   "pygments_lexer": "ipython3",
   "version": "3.11.1"
  },
  "orig_nbformat": 4,
  "vscode": {
   "interpreter": {
    "hash": "5026d2d6e7aaaaba093def813beadff083d8733e4a511af01735cbabd156995d"
   }
  }
 },
 "nbformat": 4,
 "nbformat_minor": 2
}
